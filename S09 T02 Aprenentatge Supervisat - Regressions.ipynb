{
 "cells": [
  {
   "cell_type": "markdown",
   "id": "d91d50d3",
   "metadata": {},
   "source": [
    "# Nivell 1\n",
    "\n",
    "\n",
    "\n",
    "## Exercici 1\n",
    "\n",
    "Crea almenys tres models de regressió diferents per intentar predir el millor possible l’endarreriment dels vols (ArrDelay) de DelayedFlights.csv.\n",
    "\n",
    "\n",
    "\n",
    "\n"
   ]
  },
  {
   "cell_type": "markdown",
   "id": "e3d867bd",
   "metadata": {},
   "source": [
    "\n",
    "\n",
    "El dataset és un dataframe sobre vols en EEUU durant el 2008 que conentenen les següents variables:\n",
    "\n",
    "* YEAR — Year in which flight took place\n",
    "* QUARTER — Quarter in which flight took place (1–4)\n",
    "* MONTH — Month in which flight took place (1–12)\n",
    "* DAY_OF_MONTH — Day of the month in which flight took place (1–31)\n",
    "* DAY_OF_WEEK — 1 for Monday, 2 for Tuesday,etc. in which flight took place\n",
    "* UNIQUE_CARRIER — Airline carrier code\n",
    "* TAIL_NUM — Aircraft tail number\n",
    "* FL_NUM — Flight number\n",
    "* ORIGIN_AIRPORT_ID — ID of origin airport\n",
    "* ORIGIN — Code of origin airport(ATL, DFW, SEA, etc.)\n",
    "* DEST_AIRPORT_ID — ID of destination airport\n",
    "* DEST — Code of destination airport (ATL, DFW, SEA, etc.)\n",
    "* CRS_DEP_TIME — Scheduled departure time\n",
    "* DEP_TIME — Actual departure time\n",
    "* DEP_DELAY — Departure Delay in minutes\n",
    "* DEP_DEL15 — 1 if departure is delayed by 15 minutes or more else 0\n",
    "* CRS_ARR_TIME — Scheduled arrival time\n",
    "* ARR_TIME — Actual arrival time\n",
    "* ARR_DELAY — Arrival Delay in minutes\n",
    "* ARR_DEL15 — 1 if arrived late by 15 minutes or more else 0\n",
    "* CANCELLED — 1 if Flight was cancelled else 0\n",
    "* DIVERTED — 1 if Flight was diverted else 0\n",
    "* CRS_ELAPSED_TIME — Scheduled flight time in minutes\n",
    "* ACTUAL_ELAPSED_TIME — Actual flight time in minutes\n",
    "* DISTANCE — Distance traveled in miles"
   ]
  },
  {
   "cell_type": "code",
   "execution_count": 1,
   "id": "4fcec118",
   "metadata": {},
   "outputs": [],
   "source": [
    "import pandas as pd\n",
    "import numpy as np\n",
    "import matplotlib.pyplot as plt\n",
    "import seaborn as sns\n"
   ]
  },
  {
   "cell_type": "code",
   "execution_count": 2,
   "id": "193aa226",
   "metadata": {},
   "outputs": [],
   "source": [
    "fly = pd.read_csv('C:/Users/Guillermo/Desktop/Curs Data Scientist/Sprint 2/S02 T05 Exploració de les dades/DelayedFlights.csv')"
   ]
  },
  {
   "cell_type": "markdown",
   "id": "4358bd12",
   "metadata": {},
   "source": [
    "Per fer aquest exercici s'han de crear tres models de regressió que seran supervisats. Sent la variable a supervisar el retard en els vols ArrDelay. A més, degut a les dimensions del dataframe es reduirà realitzant un sample.\n",
    "\n",
    "Per tant, es seguirà el següent pla previ abans de fer els models:\n",
    "1. Reduir a través de un sample el tamany del dataframe\n",
    "1. Preprocessing:\n",
    "    1. Transformar les dades que son hores en una variable sinusoidal\n",
    "    1. Transformar els strings en variables categòriques amb dummies\n",
    "    1. Comprobar la presència de outliers.\n",
    "    1. Comprobar la presència de NAs en les dades. En el cas que hi hagin mirar com tractar-les\n",
    "    2. Comprobar si hi ha diferència d'escala entre les variables numèriques. En el cas que hi hagi escalar. Ja sigui estandaritzant si segueixen una distribució normal, normalitzant o emprant una altre tècnica.\n",
    "3. Dividir les dades per al seu posterior entrenament  \n",
    "4. Entrenar els models. Sent en aquest cas regressió múltiple, xarxes neuronals, i arbres de decisió.\n",
    "    * Multiple Linear Regression\n",
    "    * Polinomial regression"
   ]
  },
  {
   "cell_type": "code",
   "execution_count": 3,
   "id": "a3c3ab1b",
   "metadata": {},
   "outputs": [],
   "source": [
    "fly2 = fly.sample(n = 100000, random_state = 42) "
   ]
  },
  {
   "cell_type": "code",
   "execution_count": 4,
   "id": "3f06c6dc",
   "metadata": {
    "scrolled": true
   },
   "outputs": [
    {
     "data": {
      "text/plain": [
       "(100000, 30)"
      ]
     },
     "execution_count": 4,
     "metadata": {},
     "output_type": "execute_result"
    }
   ],
   "source": [
    "fly2.shape"
   ]
  },
  {
   "cell_type": "code",
   "execution_count": 5,
   "id": "3ac414d5",
   "metadata": {},
   "outputs": [
    {
     "name": "stdout",
     "output_type": "stream",
     "text": [
      "2008    100000\n",
      "Name: Year, dtype: int64\n",
      "N    99960\n",
      "B       24\n",
      "A       14\n",
      "C        2\n",
      "Name: CancellationCode, dtype: int64\n"
     ]
    }
   ],
   "source": [
    "print(fly2['Year'].value_counts())\n",
    "print(fly2['CancellationCode'].value_counts())"
   ]
  },
  {
   "cell_type": "code",
   "execution_count": 6,
   "id": "f2b3bb9d",
   "metadata": {},
   "outputs": [],
   "source": [
    "#Igual que en l'exercici anterior eliminem columnes no útils. En aquest cas també es treu year perquè és el mateix en \n",
    "# tots els casos. \n",
    "fly2 = fly2.drop(['Unnamed: 0', 'Year'], axis = 1)"
   ]
  },
  {
   "cell_type": "code",
   "execution_count": 7,
   "id": "4ba41304",
   "metadata": {},
   "outputs": [
    {
     "data": {
      "text/plain": [
       "(100000, 28)"
      ]
     },
     "execution_count": 7,
     "metadata": {},
     "output_type": "execute_result"
    }
   ],
   "source": [
    "fly2.shape"
   ]
  },
  {
   "cell_type": "markdown",
   "id": "ae91970c",
   "metadata": {},
   "source": [
    "## Preprocessing:"
   ]
  },
  {
   "cell_type": "code",
   "execution_count": 8,
   "id": "0001336b",
   "metadata": {
    "scrolled": true
   },
   "outputs": [
    {
     "data": {
      "text/plain": [
       "Month                    0\n",
       "DayofMonth               0\n",
       "DayOfWeek                0\n",
       "DepTime                  0\n",
       "CRSDepTime               0\n",
       "ArrTime                365\n",
       "CRSArrTime               0\n",
       "UniqueCarrier            0\n",
       "FlightNum                0\n",
       "TailNum                  0\n",
       "ActualElapsedTime      432\n",
       "CRSElapsedTime           7\n",
       "AirTime                432\n",
       "ArrDelay               432\n",
       "DepDelay                 0\n",
       "Origin                   0\n",
       "Dest                     0\n",
       "Distance                 0\n",
       "TaxiIn                 365\n",
       "TaxiOut                 31\n",
       "Cancelled                0\n",
       "CancellationCode         0\n",
       "Diverted                 0\n",
       "CarrierDelay         35434\n",
       "WeatherDelay         35434\n",
       "NASDelay             35434\n",
       "SecurityDelay        35434\n",
       "LateAircraftDelay    35434\n",
       "dtype: int64"
      ]
     },
     "execution_count": 8,
     "metadata": {},
     "output_type": "execute_result"
    }
   ],
   "source": [
    "fly2.isna().sum()"
   ]
  },
  {
   "cell_type": "markdown",
   "id": "5a9ff22f",
   "metadata": {},
   "source": [
    "Eliminem NaN de la variable depenent per fer l'anàlisis supervisat"
   ]
  },
  {
   "cell_type": "code",
   "execution_count": 9,
   "id": "ec3d3f1b",
   "metadata": {},
   "outputs": [],
   "source": [
    "fly2 = fly2.dropna(subset = ['ArrDelay'])"
   ]
  },
  {
   "cell_type": "code",
   "execution_count": 10,
   "id": "7c8ab44c",
   "metadata": {
    "scrolled": true
   },
   "outputs": [
    {
     "data": {
      "text/plain": [
       "(99568, 28)"
      ]
     },
     "execution_count": 10,
     "metadata": {},
     "output_type": "execute_result"
    }
   ],
   "source": [
    "fly2.shape"
   ]
  },
  {
   "cell_type": "code",
   "execution_count": 11,
   "id": "10a55288",
   "metadata": {},
   "outputs": [
    {
     "data": {
      "text/html": [
       "<div>\n",
       "<style scoped>\n",
       "    .dataframe tbody tr th:only-of-type {\n",
       "        vertical-align: middle;\n",
       "    }\n",
       "\n",
       "    .dataframe tbody tr th {\n",
       "        vertical-align: top;\n",
       "    }\n",
       "\n",
       "    .dataframe thead th {\n",
       "        text-align: right;\n",
       "    }\n",
       "</style>\n",
       "<table border=\"1\" class=\"dataframe\">\n",
       "  <thead>\n",
       "    <tr style=\"text-align: right;\">\n",
       "      <th></th>\n",
       "      <th>Month</th>\n",
       "      <th>DayofMonth</th>\n",
       "      <th>DayOfWeek</th>\n",
       "      <th>DepTime</th>\n",
       "      <th>CRSDepTime</th>\n",
       "      <th>ArrTime</th>\n",
       "      <th>CRSArrTime</th>\n",
       "      <th>UniqueCarrier</th>\n",
       "      <th>FlightNum</th>\n",
       "      <th>TailNum</th>\n",
       "      <th>...</th>\n",
       "      <th>TaxiIn</th>\n",
       "      <th>TaxiOut</th>\n",
       "      <th>Cancelled</th>\n",
       "      <th>CancellationCode</th>\n",
       "      <th>Diverted</th>\n",
       "      <th>CarrierDelay</th>\n",
       "      <th>WeatherDelay</th>\n",
       "      <th>NASDelay</th>\n",
       "      <th>SecurityDelay</th>\n",
       "      <th>LateAircraftDelay</th>\n",
       "    </tr>\n",
       "  </thead>\n",
       "  <tbody>\n",
       "    <tr>\n",
       "      <th>1782417</th>\n",
       "      <td>12</td>\n",
       "      <td>6</td>\n",
       "      <td>6</td>\n",
       "      <td>1805.0</td>\n",
       "      <td>1755</td>\n",
       "      <td>2146.0</td>\n",
       "      <td>2035</td>\n",
       "      <td>YV</td>\n",
       "      <td>7281</td>\n",
       "      <td>N505MJ</td>\n",
       "      <td>...</td>\n",
       "      <td>5.0</td>\n",
       "      <td>99.0</td>\n",
       "      <td>0</td>\n",
       "      <td>N</td>\n",
       "      <td>0</td>\n",
       "      <td>71.0</td>\n",
       "      <td>0.0</td>\n",
       "      <td>0.0</td>\n",
       "      <td>0.0</td>\n",
       "      <td>0.0</td>\n",
       "    </tr>\n",
       "    <tr>\n",
       "      <th>512712</th>\n",
       "      <td>3</td>\n",
       "      <td>23</td>\n",
       "      <td>7</td>\n",
       "      <td>2120.0</td>\n",
       "      <td>1200</td>\n",
       "      <td>2241.0</td>\n",
       "      <td>1333</td>\n",
       "      <td>NW</td>\n",
       "      <td>131</td>\n",
       "      <td>N777NC</td>\n",
       "      <td>...</td>\n",
       "      <td>7.0</td>\n",
       "      <td>19.0</td>\n",
       "      <td>0</td>\n",
       "      <td>N</td>\n",
       "      <td>0</td>\n",
       "      <td>543.0</td>\n",
       "      <td>0.0</td>\n",
       "      <td>0.0</td>\n",
       "      <td>0.0</td>\n",
       "      <td>5.0</td>\n",
       "    </tr>\n",
       "    <tr>\n",
       "      <th>447137</th>\n",
       "      <td>3</td>\n",
       "      <td>31</td>\n",
       "      <td>1</td>\n",
       "      <td>1731.0</td>\n",
       "      <td>1710</td>\n",
       "      <td>1819.0</td>\n",
       "      <td>1810</td>\n",
       "      <td>OO</td>\n",
       "      <td>3676</td>\n",
       "      <td>N224SW</td>\n",
       "      <td>...</td>\n",
       "      <td>3.0</td>\n",
       "      <td>1.0</td>\n",
       "      <td>0</td>\n",
       "      <td>N</td>\n",
       "      <td>0</td>\n",
       "      <td>NaN</td>\n",
       "      <td>NaN</td>\n",
       "      <td>NaN</td>\n",
       "      <td>NaN</td>\n",
       "      <td>NaN</td>\n",
       "    </tr>\n",
       "    <tr>\n",
       "      <th>55082</th>\n",
       "      <td>1</td>\n",
       "      <td>6</td>\n",
       "      <td>7</td>\n",
       "      <td>1507.0</td>\n",
       "      <td>1413</td>\n",
       "      <td>1601.0</td>\n",
       "      <td>1509</td>\n",
       "      <td>OO</td>\n",
       "      <td>6573</td>\n",
       "      <td>N708SK</td>\n",
       "      <td>...</td>\n",
       "      <td>5.0</td>\n",
       "      <td>17.0</td>\n",
       "      <td>0</td>\n",
       "      <td>N</td>\n",
       "      <td>0</td>\n",
       "      <td>0.0</td>\n",
       "      <td>0.0</td>\n",
       "      <td>0.0</td>\n",
       "      <td>0.0</td>\n",
       "      <td>52.0</td>\n",
       "    </tr>\n",
       "    <tr>\n",
       "      <th>877634</th>\n",
       "      <td>5</td>\n",
       "      <td>22</td>\n",
       "      <td>4</td>\n",
       "      <td>637.0</td>\n",
       "      <td>630</td>\n",
       "      <td>812.0</td>\n",
       "      <td>750</td>\n",
       "      <td>CO</td>\n",
       "      <td>1869</td>\n",
       "      <td>N16646</td>\n",
       "      <td>...</td>\n",
       "      <td>5.0</td>\n",
       "      <td>16.0</td>\n",
       "      <td>0</td>\n",
       "      <td>N</td>\n",
       "      <td>0</td>\n",
       "      <td>0.0</td>\n",
       "      <td>0.0</td>\n",
       "      <td>15.0</td>\n",
       "      <td>7.0</td>\n",
       "      <td>0.0</td>\n",
       "    </tr>\n",
       "  </tbody>\n",
       "</table>\n",
       "<p>5 rows × 28 columns</p>\n",
       "</div>"
      ],
      "text/plain": [
       "         Month  DayofMonth  DayOfWeek  DepTime  CRSDepTime  ArrTime  \\\n",
       "1782417     12           6          6   1805.0        1755   2146.0   \n",
       "512712       3          23          7   2120.0        1200   2241.0   \n",
       "447137       3          31          1   1731.0        1710   1819.0   \n",
       "55082        1           6          7   1507.0        1413   1601.0   \n",
       "877634       5          22          4    637.0         630    812.0   \n",
       "\n",
       "         CRSArrTime UniqueCarrier  FlightNum TailNum  ...  TaxiIn  TaxiOut  \\\n",
       "1782417        2035            YV       7281  N505MJ  ...     5.0     99.0   \n",
       "512712         1333            NW        131  N777NC  ...     7.0     19.0   \n",
       "447137         1810            OO       3676  N224SW  ...     3.0      1.0   \n",
       "55082          1509            OO       6573  N708SK  ...     5.0     17.0   \n",
       "877634          750            CO       1869  N16646  ...     5.0     16.0   \n",
       "\n",
       "         Cancelled  CancellationCode  Diverted CarrierDelay WeatherDelay  \\\n",
       "1782417          0                 N         0         71.0          0.0   \n",
       "512712           0                 N         0        543.0          0.0   \n",
       "447137           0                 N         0          NaN          NaN   \n",
       "55082            0                 N         0          0.0          0.0   \n",
       "877634           0                 N         0          0.0          0.0   \n",
       "\n",
       "         NASDelay  SecurityDelay  LateAircraftDelay  \n",
       "1782417       0.0            0.0                0.0  \n",
       "512712        0.0            0.0                5.0  \n",
       "447137        NaN            NaN                NaN  \n",
       "55082         0.0            0.0               52.0  \n",
       "877634       15.0            7.0                0.0  \n",
       "\n",
       "[5 rows x 28 columns]"
      ]
     },
     "execution_count": 11,
     "metadata": {},
     "output_type": "execute_result"
    }
   ],
   "source": [
    "fly2.head()"
   ]
  },
  {
   "cell_type": "code",
   "execution_count": 12,
   "id": "145058d8",
   "metadata": {
    "scrolled": true
   },
   "outputs": [
    {
     "data": {
      "text/plain": [
       "Month                    0\n",
       "DayofMonth               0\n",
       "DayOfWeek                0\n",
       "DepTime                  0\n",
       "CRSDepTime               0\n",
       "ArrTime                  0\n",
       "CRSArrTime               0\n",
       "UniqueCarrier            0\n",
       "FlightNum                0\n",
       "TailNum                  0\n",
       "ActualElapsedTime        0\n",
       "CRSElapsedTime           0\n",
       "AirTime                  0\n",
       "ArrDelay                 0\n",
       "DepDelay                 0\n",
       "Origin                   0\n",
       "Dest                     0\n",
       "Distance                 0\n",
       "TaxiIn                   0\n",
       "TaxiOut                  0\n",
       "Cancelled                0\n",
       "CancellationCode         0\n",
       "Diverted                 0\n",
       "CarrierDelay         35002\n",
       "WeatherDelay         35002\n",
       "NASDelay             35002\n",
       "SecurityDelay        35002\n",
       "LateAircraftDelay    35002\n",
       "dtype: int64"
      ]
     },
     "execution_count": 12,
     "metadata": {},
     "output_type": "execute_result"
    }
   ],
   "source": [
    "fly2.isna().sum()"
   ]
  },
  {
   "cell_type": "code",
   "execution_count": 13,
   "id": "4a7406b3",
   "metadata": {
    "scrolled": true
   },
   "outputs": [
    {
     "data": {
      "text/plain": [
       "N    99568\n",
       "Name: CancellationCode, dtype: int64"
      ]
     },
     "execution_count": 13,
     "metadata": {},
     "output_type": "execute_result"
    }
   ],
   "source": [
    "fly2['CancellationCode'].value_counts()"
   ]
  },
  {
   "cell_type": "markdown",
   "id": "86f75e16",
   "metadata": {},
   "source": [
    "Actualment després d'eliminar els NAs cancelation code no aporta informació i també és eliminat del registre"
   ]
  },
  {
   "cell_type": "code",
   "execution_count": 14,
   "id": "3516c108",
   "metadata": {},
   "outputs": [
    {
     "data": {
      "text/plain": [
       "(99568, 27)"
      ]
     },
     "execution_count": 14,
     "metadata": {},
     "output_type": "execute_result"
    }
   ],
   "source": [
    "fly2 = fly2.drop('CancellationCode', axis = 1)\n",
    "fly2.shape"
   ]
  },
  {
   "cell_type": "markdown",
   "id": "0b576587",
   "metadata": {},
   "source": [
    "Actualment només queden NaNs en les últimes variables on un 35% de les dades aproximadament ho son. "
   ]
  },
  {
   "cell_type": "code",
   "execution_count": 15,
   "id": "606c8e2b",
   "metadata": {
    "scrolled": true
   },
   "outputs": [
    {
     "data": {
      "image/png": "[encoded data removed]",
      "text/plain": [
       "<Figure size 2160x720 with 1 Axes>"
      ]
     },
     "metadata": {},
     "output_type": "display_data"
    }
   ],
   "source": [
    "sns.set()\n",
    "plt.figure(figsize=(30,10))\n",
    "fly2.boxplot()\n",
    "plt.show()"
   ]
  },
  {
   "cell_type": "code",
   "execution_count": 23,
   "id": "e88a5362",
   "metadata": {},
   "outputs": [
    {
     "data": {
      "image/png": "[encoded data removed]",
      "text/plain": [
       "<Figure size 1080x504 with 5 Axes>"
      ]
     },
     "metadata": {},
     "output_type": "display_data"
    }
   ],
   "source": [
    "boxplots = ['CarrierDelay','WeatherDelay', 'NASDelay', 'SecurityDelay', 'LateAircraftDelay']\n",
    "\n",
    "plt.figure(figsize = (15,7))\n",
    "\n",
    "for i, name in enumerate(boxplots):\n",
    "    plt.subplot(2,3,(i+1))\n",
    "    sns.boxplot(x = fly2[name])\n",
    "\n",
    "plt.show()"
   ]
  },
  {
   "cell_type": "markdown",
   "id": "23a32300",
   "metadata": {},
   "source": [
    "Com es mostra en els gràfics anteriors les variables presenten un nombre molt alt de outliers, per tant es farà la imputació amb la mitjana. Abans de res hem de separar les variables numèriques dels strings"
   ]
  },
  {
   "cell_type": "markdown",
   "id": "a1cb0e9b",
   "metadata": {},
   "source": [
    "Per un altre banda, com es mostra a continuació, la proporció de valors en Cancelled i Diverted no es conserven en la mostra que s'ha realitzat. Per tant, en futurs anàlisis seria molt convenient conservar la proporció dels diferents casos en el mostreig. \n",
    "\n",
    "En aquest cas com la variable no aporta informació també serà eliminada del anàlisis"
   ]
  },
  {
   "cell_type": "code",
   "execution_count": 16,
   "id": "3b380f15",
   "metadata": {
    "scrolled": true
   },
   "outputs": [
    {
     "name": "stdout",
     "output_type": "stream",
     "text": [
      "0    99568\n",
      "Name: Cancelled, dtype: int64\n",
      "0    99568\n",
      "Name: Diverted, dtype: int64\n"
     ]
    }
   ],
   "source": [
    "print(fly2['Cancelled'].value_counts())\n",
    "print(fly2['Diverted'].value_counts())"
   ]
  },
  {
   "cell_type": "code",
   "execution_count": 17,
   "id": "c8ab2fe6",
   "metadata": {
    "scrolled": true
   },
   "outputs": [
    {
     "name": "stdout",
     "output_type": "stream",
     "text": [
      "0    1936125\n",
      "1        633\n",
      "Name: Cancelled, dtype: int64\n",
      "0    1929004\n",
      "1       7754\n",
      "Name: Diverted, dtype: int64\n"
     ]
    }
   ],
   "source": [
    "print(fly['Cancelled'].value_counts())\n",
    "print(fly['Diverted'].value_counts())"
   ]
  },
  {
   "cell_type": "code",
   "execution_count": 18,
   "id": "428a8196",
   "metadata": {},
   "outputs": [
    {
     "data": {
      "text/plain": [
       "(99568, 25)"
      ]
     },
     "execution_count": 18,
     "metadata": {},
     "output_type": "execute_result"
    }
   ],
   "source": [
    "fly2 = fly2.drop(['Cancelled', 'Diverted'], axis = 1)\n",
    "fly2.shape"
   ]
  },
  {
   "cell_type": "code",
   "execution_count": 19,
   "id": "3ec3a0fa",
   "metadata": {},
   "outputs": [],
   "source": [
    "#Guardem el nom de les variables numèriques i categòriques per separat\n",
    "numVar = ['Month', 'DayofMonth', 'DayOfWeek', 'DepTime', 'CRSDepTime', 'ArrTime',\n",
    "       'CRSArrTime', 'FlightNum', 'ActualElapsedTime', 'CRSElapsedTime', 'AirTime', 'ArrDelay',\n",
    "       'DepDelay','Distance', 'TaxiIn', 'TaxiOut', 'CarrierDelay',\n",
    "       'WeatherDelay', 'NASDelay', 'SecurityDelay', 'LateAircraftDelay']\n",
    "catVar = ['UniqueCarrier', 'TailNum','Origin', 'Dest']"
   ]
  },
  {
   "cell_type": "code",
   "execution_count": 20,
   "id": "46a2f75f",
   "metadata": {},
   "outputs": [],
   "source": [
    "fly2Num = fly2.drop(catVar, axis = 1)\n",
    "fly2Cat = fly2.drop(numVar, axis = 1)"
   ]
  },
  {
   "cell_type": "code",
   "execution_count": 58,
   "id": "b467ff11",
   "metadata": {},
   "outputs": [
    {
     "data": {
      "text/plain": [
       "Index(['Month', 'DayofMonth', 'DayOfWeek', 'DepTime', 'CRSDepTime', 'ArrTime',\n",
       "       'CRSArrTime', 'FlightNum', 'ActualElapsedTime', 'CRSElapsedTime',\n",
       "       'AirTime', 'ArrDelay', 'DepDelay', 'Distance', 'TaxiIn', 'TaxiOut',\n",
       "       'CarrierDelay', 'WeatherDelay', 'NASDelay', 'SecurityDelay',\n",
       "       'LateAircraftDelay'],\n",
       "      dtype='object')"
      ]
     },
     "execution_count": 58,
     "metadata": {},
     "output_type": "execute_result"
    }
   ],
   "source": [
    "fly2Num.columns"
   ]
  },
  {
   "cell_type": "code",
   "execution_count": 21,
   "id": "5f9eba24",
   "metadata": {},
   "outputs": [
    {
     "name": "stdout",
     "output_type": "stream",
     "text": [
      "(99568, 21)\n"
     ]
    }
   ],
   "source": [
    "\n",
    "from sklearn.impute import SimpleImputer\n",
    "\n",
    "imp = SimpleImputer(missing_values = np.nan, strategy = 'median')\n",
    "\n",
    "flyTemp = imp.fit_transform(fly2Num)\n",
    "\n",
    "fly2Num = pd.DataFrame(data = flyTemp, columns = numVar)\n",
    "\n",
    "print(fly2Num.shape)"
   ]
  },
  {
   "cell_type": "code",
   "execution_count": 22,
   "id": "f8ad16f6",
   "metadata": {},
   "outputs": [
    {
     "data": {
      "text/plain": [
       "Month                0\n",
       "DayofMonth           0\n",
       "DayOfWeek            0\n",
       "DepTime              0\n",
       "CRSDepTime           0\n",
       "ArrTime              0\n",
       "CRSArrTime           0\n",
       "FlightNum            0\n",
       "ActualElapsedTime    0\n",
       "CRSElapsedTime       0\n",
       "AirTime              0\n",
       "ArrDelay             0\n",
       "DepDelay             0\n",
       "Distance             0\n",
       "TaxiIn               0\n",
       "TaxiOut              0\n",
       "CarrierDelay         0\n",
       "WeatherDelay         0\n",
       "NASDelay             0\n",
       "SecurityDelay        0\n",
       "LateAircraftDelay    0\n",
       "dtype: int64"
      ]
     },
     "execution_count": 22,
     "metadata": {},
     "output_type": "execute_result"
    }
   ],
   "source": [
    "fly2Num.isna().sum()"
   ]
  },
  {
   "cell_type": "markdown",
   "id": "7f31ce96",
   "metadata": {},
   "source": [
    "Hem substituit els NaNs.\n",
    "\n",
    "En els boxplots s'observa que hi ha una gran quantitat de outliers en més de una variable i a més l'escala de les diferents variables és molt diferent. Per tant, pot ser recomenable estandaritzar o normalitzar. Per tant aplicarem a totes les variables un robustscaler"
   ]
  },
  {
   "cell_type": "code",
   "execution_count": 23,
   "id": "374a68af",
   "metadata": {},
   "outputs": [],
   "source": [
    "# Apliquem robust scaler i ho guardem en un nou dataframe\n",
    "\n",
    "from sklearn.preprocessing import RobustScaler\n",
    "scaler = RobustScaler()\n",
    "\n",
    "fly2NumTrans = scaler.fit_transform(fly2Num)\n",
    "\n",
    "fly2NumTrans = pd.DataFrame(data = fly2NumTrans, columns = numVar)"
   ]
  },
  {
   "cell_type": "code",
   "execution_count": 62,
   "id": "d301be7f",
   "metadata": {},
   "outputs": [
    {
     "data": {
      "text/html": [
       "<div>\n",
       "<style scoped>\n",
       "    .dataframe tbody tr th:only-of-type {\n",
       "        vertical-align: middle;\n",
       "    }\n",
       "\n",
       "    .dataframe tbody tr th {\n",
       "        vertical-align: top;\n",
       "    }\n",
       "\n",
       "    .dataframe thead th {\n",
       "        text-align: right;\n",
       "    }\n",
       "</style>\n",
       "<table border=\"1\" class=\"dataframe\">\n",
       "  <thead>\n",
       "    <tr style=\"text-align: right;\">\n",
       "      <th></th>\n",
       "      <th>Month</th>\n",
       "      <th>DayofMonth</th>\n",
       "      <th>DayOfWeek</th>\n",
       "      <th>DepTime</th>\n",
       "      <th>CRSDepTime</th>\n",
       "      <th>ArrTime</th>\n",
       "      <th>CRSArrTime</th>\n",
       "      <th>FlightNum</th>\n",
       "      <th>ActualElapsedTime</th>\n",
       "      <th>CRSElapsedTime</th>\n",
       "      <th>...</th>\n",
       "      <th>ArrDelay</th>\n",
       "      <th>DepDelay</th>\n",
       "      <th>Distance</th>\n",
       "      <th>TaxiIn</th>\n",
       "      <th>TaxiOut</th>\n",
       "      <th>CarrierDelay</th>\n",
       "      <th>WeatherDelay</th>\n",
       "      <th>NASDelay</th>\n",
       "      <th>SecurityDelay</th>\n",
       "      <th>LateAircraftDelay</th>\n",
       "    </tr>\n",
       "  </thead>\n",
       "  <tbody>\n",
       "    <tr>\n",
       "      <th>0</th>\n",
       "      <td>1.000000</td>\n",
       "      <td>-0.666667</td>\n",
       "      <td>0.50</td>\n",
       "      <td>0.370158</td>\n",
       "      <td>0.357664</td>\n",
       "      <td>0.602797</td>\n",
       "      <td>0.475362</td>\n",
       "      <td>2.046786</td>\n",
       "      <td>1.941176</td>\n",
       "      <td>1.253012</td>\n",
       "      <td>...</td>\n",
       "      <td>0.978723</td>\n",
       "      <td>-0.333333</td>\n",
       "      <td>1.048558</td>\n",
       "      <td>-0.25</td>\n",
       "      <td>7.727273</td>\n",
       "      <td>6.9</td>\n",
       "      <td>0.0</td>\n",
       "      <td>-0.166667</td>\n",
       "      <td>0.0</td>\n",
       "      <td>-0.421053</td>\n",
       "    </tr>\n",
       "    <tr>\n",
       "      <th>1</th>\n",
       "      <td>-0.500000</td>\n",
       "      <td>0.466667</td>\n",
       "      <td>0.75</td>\n",
       "      <td>0.822095</td>\n",
       "      <td>-0.452555</td>\n",
       "      <td>0.735664</td>\n",
       "      <td>-0.542029</td>\n",
       "      <td>-0.506786</td>\n",
       "      <td>-0.411765</td>\n",
       "      <td>-0.277108</td>\n",
       "      <td>...</td>\n",
       "      <td>11.127660</td>\n",
       "      <td>12.761905</td>\n",
       "      <td>-0.412747</td>\n",
       "      <td>0.25</td>\n",
       "      <td>0.454545</td>\n",
       "      <td>54.1</td>\n",
       "      <td>0.0</td>\n",
       "      <td>-0.166667</td>\n",
       "      <td>0.0</td>\n",
       "      <td>-0.157895</td>\n",
       "    </tr>\n",
       "    <tr>\n",
       "      <th>2</th>\n",
       "      <td>-0.500000</td>\n",
       "      <td>1.000000</td>\n",
       "      <td>-0.75</td>\n",
       "      <td>0.263989</td>\n",
       "      <td>0.291971</td>\n",
       "      <td>0.145455</td>\n",
       "      <td>0.149275</td>\n",
       "      <td>0.759286</td>\n",
       "      <td>-0.800000</td>\n",
       "      <td>-0.674699</td>\n",
       "      <td>...</td>\n",
       "      <td>-0.340426</td>\n",
       "      <td>-0.071429</td>\n",
       "      <td>-0.691958</td>\n",
       "      <td>-0.75</td>\n",
       "      <td>-1.181818</td>\n",
       "      <td>0.0</td>\n",
       "      <td>0.0</td>\n",
       "      <td>0.000000</td>\n",
       "      <td>0.0</td>\n",
       "      <td>0.000000</td>\n",
       "    </tr>\n",
       "    <tr>\n",
       "      <th>3</th>\n",
       "      <td>-0.833333</td>\n",
       "      <td>-0.666667</td>\n",
       "      <td>0.75</td>\n",
       "      <td>-0.057389</td>\n",
       "      <td>-0.141606</td>\n",
       "      <td>-0.159441</td>\n",
       "      <td>-0.286957</td>\n",
       "      <td>1.793929</td>\n",
       "      <td>-0.729412</td>\n",
       "      <td>-0.722892</td>\n",
       "      <td>...</td>\n",
       "      <td>0.574468</td>\n",
       "      <td>0.714286</td>\n",
       "      <td>-0.704097</td>\n",
       "      <td>-0.25</td>\n",
       "      <td>0.272727</td>\n",
       "      <td>-0.2</td>\n",
       "      <td>0.0</td>\n",
       "      <td>-0.166667</td>\n",
       "      <td>0.0</td>\n",
       "      <td>2.315789</td>\n",
       "    </tr>\n",
       "    <tr>\n",
       "      <th>4</th>\n",
       "      <td>-0.166667</td>\n",
       "      <td>0.400000</td>\n",
       "      <td>0.00</td>\n",
       "      <td>-1.305595</td>\n",
       "      <td>-1.284672</td>\n",
       "      <td>-1.262937</td>\n",
       "      <td>-1.386957</td>\n",
       "      <td>0.113929</td>\n",
       "      <td>0.458824</td>\n",
       "      <td>0.289157</td>\n",
       "      <td>...</td>\n",
       "      <td>-0.063830</td>\n",
       "      <td>-0.404762</td>\n",
       "      <td>0.320182</td>\n",
       "      <td>-0.25</td>\n",
       "      <td>0.181818</td>\n",
       "      <td>-0.2</td>\n",
       "      <td>0.0</td>\n",
       "      <td>2.333333</td>\n",
       "      <td>7.0</td>\n",
       "      <td>-0.421053</td>\n",
       "    </tr>\n",
       "  </tbody>\n",
       "</table>\n",
       "<p>5 rows × 21 columns</p>\n",
       "</div>"
      ],
      "text/plain": [
       "      Month  DayofMonth  DayOfWeek   DepTime  CRSDepTime   ArrTime  \\\n",
       "0  1.000000   -0.666667       0.50  0.370158    0.357664  0.602797   \n",
       "1 -0.500000    0.466667       0.75  0.822095   -0.452555  0.735664   \n",
       "2 -0.500000    1.000000      -0.75  0.263989    0.291971  0.145455   \n",
       "3 -0.833333   -0.666667       0.75 -0.057389   -0.141606 -0.159441   \n",
       "4 -0.166667    0.400000       0.00 -1.305595   -1.284672 -1.262937   \n",
       "\n",
       "   CRSArrTime  FlightNum  ActualElapsedTime  CRSElapsedTime  ...   ArrDelay  \\\n",
       "0    0.475362   2.046786           1.941176        1.253012  ...   0.978723   \n",
       "1   -0.542029  -0.506786          -0.411765       -0.277108  ...  11.127660   \n",
       "2    0.149275   0.759286          -0.800000       -0.674699  ...  -0.340426   \n",
       "3   -0.286957   1.793929          -0.729412       -0.722892  ...   0.574468   \n",
       "4   -1.386957   0.113929           0.458824        0.289157  ...  -0.063830   \n",
       "\n",
       "    DepDelay  Distance  TaxiIn   TaxiOut  CarrierDelay  WeatherDelay  \\\n",
       "0  -0.333333  1.048558   -0.25  7.727273           6.9           0.0   \n",
       "1  12.761905 -0.412747    0.25  0.454545          54.1           0.0   \n",
       "2  -0.071429 -0.691958   -0.75 -1.181818           0.0           0.0   \n",
       "3   0.714286 -0.704097   -0.25  0.272727          -0.2           0.0   \n",
       "4  -0.404762  0.320182   -0.25  0.181818          -0.2           0.0   \n",
       "\n",
       "   NASDelay  SecurityDelay  LateAircraftDelay  \n",
       "0 -0.166667            0.0          -0.421053  \n",
       "1 -0.166667            0.0          -0.157895  \n",
       "2  0.000000            0.0           0.000000  \n",
       "3 -0.166667            0.0           2.315789  \n",
       "4  2.333333            7.0          -0.421053  \n",
       "\n",
       "[5 rows x 21 columns]"
      ]
     },
     "execution_count": 62,
     "metadata": {},
     "output_type": "execute_result"
    }
   ],
   "source": [
    "fly2NumTrans.head()"
   ]
  },
  {
   "cell_type": "code",
   "execution_count": 64,
   "id": "564d97e9",
   "metadata": {},
   "outputs": [
    {
     "data": {
      "image/png": "[encoded data removed]",
      "text/plain": [
       "<Figure size 2160x720 with 1 Axes>"
      ]
     },
     "metadata": {},
     "output_type": "display_data"
    }
   ],
   "source": [
    "plt.figure(figsize=(30,10))\n",
    "fly2NumTrans.boxplot()\n",
    "plt.show()"
   ]
  },
  {
   "cell_type": "markdown",
   "id": "23d2bf11",
   "metadata": {},
   "source": [
    "Com continuen sent lea dades molt diferents d'escala entre elles es passa a normalitzar-les"
   ]
  },
  {
   "cell_type": "code",
   "execution_count": 24,
   "id": "18a35392",
   "metadata": {},
   "outputs": [],
   "source": [
    "import sklearn.preprocessing as sklp\n",
    "minmax = sklp.MinMaxScaler()\n",
    "\n",
    "fly2Norm = minmax.fit_transform(fly2NumTrans)"
   ]
  },
  {
   "cell_type": "code",
   "execution_count": 37,
   "id": "4c2068d1",
   "metadata": {},
   "outputs": [
    {
     "data": {
      "text/html": [
       "<div>\n",
       "<style scoped>\n",
       "    .dataframe tbody tr th:only-of-type {\n",
       "        vertical-align: middle;\n",
       "    }\n",
       "\n",
       "    .dataframe tbody tr th {\n",
       "        vertical-align: top;\n",
       "    }\n",
       "\n",
       "    .dataframe thead th {\n",
       "        text-align: right;\n",
       "    }\n",
       "</style>\n",
       "<table border=\"1\" class=\"dataframe\">\n",
       "  <thead>\n",
       "    <tr style=\"text-align: right;\">\n",
       "      <th></th>\n",
       "      <th>Month</th>\n",
       "      <th>DayofMonth</th>\n",
       "      <th>DayOfWeek</th>\n",
       "      <th>DepTime</th>\n",
       "      <th>CRSDepTime</th>\n",
       "      <th>ArrTime</th>\n",
       "      <th>CRSArrTime</th>\n",
       "      <th>FlightNum</th>\n",
       "      <th>ActualElapsedTime</th>\n",
       "      <th>CRSElapsedTime</th>\n",
       "      <th>...</th>\n",
       "      <th>ArrDelay</th>\n",
       "      <th>DepDelay</th>\n",
       "      <th>Distance</th>\n",
       "      <th>TaxiIn</th>\n",
       "      <th>TaxiOut</th>\n",
       "      <th>CarrierDelay</th>\n",
       "      <th>WeatherDelay</th>\n",
       "      <th>NASDelay</th>\n",
       "      <th>SecurityDelay</th>\n",
       "      <th>LateAircraftDelay</th>\n",
       "    </tr>\n",
       "  </thead>\n",
       "  <tbody>\n",
       "    <tr>\n",
       "      <th>0</th>\n",
       "      <td>1.000000</td>\n",
       "      <td>0.166667</td>\n",
       "      <td>0.833333</td>\n",
       "      <td>0.751980</td>\n",
       "      <td>0.743415</td>\n",
       "      <td>0.894123</td>\n",
       "      <td>0.862595</td>\n",
       "      <td>0.747510</td>\n",
       "      <td>0.410494</td>\n",
       "      <td>0.317829</td>\n",
       "      <td>...</td>\n",
       "      <td>0.078898</td>\n",
       "      <td>0.002599</td>\n",
       "      <td>0.259746</td>\n",
       "      <td>0.026882</td>\n",
       "      <td>0.289474</td>\n",
       "      <td>0.046044</td>\n",
       "      <td>0.0</td>\n",
       "      <td>0.000000</td>\n",
       "      <td>0.000000</td>\n",
       "      <td>0.000000</td>\n",
       "    </tr>\n",
       "    <tr>\n",
       "      <th>1</th>\n",
       "      <td>0.181818</td>\n",
       "      <td>0.733333</td>\n",
       "      <td>1.000000</td>\n",
       "      <td>0.883285</td>\n",
       "      <td>0.507647</td>\n",
       "      <td>0.933722</td>\n",
       "      <td>0.564885</td>\n",
       "      <td>0.013348</td>\n",
       "      <td>0.101852</td>\n",
       "      <td>0.120930</td>\n",
       "      <td>...</td>\n",
       "      <td>0.377583</td>\n",
       "      <td>0.359974</td>\n",
       "      <td>0.065239</td>\n",
       "      <td>0.037634</td>\n",
       "      <td>0.055556</td>\n",
       "      <td>0.352140</td>\n",
       "      <td>0.0</td>\n",
       "      <td>0.000000</td>\n",
       "      <td>0.000000</td>\n",
       "      <td>0.004941</td>\n",
       "    </tr>\n",
       "    <tr>\n",
       "      <th>2</th>\n",
       "      <td>0.181818</td>\n",
       "      <td>1.000000</td>\n",
       "      <td>0.000000</td>\n",
       "      <td>0.721134</td>\n",
       "      <td>0.724299</td>\n",
       "      <td>0.757816</td>\n",
       "      <td>0.767176</td>\n",
       "      <td>0.377349</td>\n",
       "      <td>0.050926</td>\n",
       "      <td>0.069767</td>\n",
       "      <td>...</td>\n",
       "      <td>0.040075</td>\n",
       "      <td>0.009747</td>\n",
       "      <td>0.028075</td>\n",
       "      <td>0.016129</td>\n",
       "      <td>0.002924</td>\n",
       "      <td>0.001297</td>\n",
       "      <td>0.0</td>\n",
       "      <td>0.000971</td>\n",
       "      <td>0.000000</td>\n",
       "      <td>0.007905</td>\n",
       "    </tr>\n",
       "    <tr>\n",
       "      <th>3</th>\n",
       "      <td>0.000000</td>\n",
       "      <td>0.166667</td>\n",
       "      <td>1.000000</td>\n",
       "      <td>0.627762</td>\n",
       "      <td>0.598131</td>\n",
       "      <td>0.666945</td>\n",
       "      <td>0.639525</td>\n",
       "      <td>0.674813</td>\n",
       "      <td>0.060185</td>\n",
       "      <td>0.063566</td>\n",
       "      <td>...</td>\n",
       "      <td>0.067001</td>\n",
       "      <td>0.031189</td>\n",
       "      <td>0.026459</td>\n",
       "      <td>0.026882</td>\n",
       "      <td>0.049708</td>\n",
       "      <td>0.000000</td>\n",
       "      <td>0.0</td>\n",
       "      <td>0.000000</td>\n",
       "      <td>0.000000</td>\n",
       "      <td>0.051383</td>\n",
       "    </tr>\n",
       "    <tr>\n",
       "      <th>4</th>\n",
       "      <td>0.363636</td>\n",
       "      <td>0.700000</td>\n",
       "      <td>0.500000</td>\n",
       "      <td>0.265110</td>\n",
       "      <td>0.265506</td>\n",
       "      <td>0.338058</td>\n",
       "      <td>0.317642</td>\n",
       "      <td>0.191806</td>\n",
       "      <td>0.216049</td>\n",
       "      <td>0.193798</td>\n",
       "      <td>...</td>\n",
       "      <td>0.048215</td>\n",
       "      <td>0.000650</td>\n",
       "      <td>0.162795</td>\n",
       "      <td>0.026882</td>\n",
       "      <td>0.046784</td>\n",
       "      <td>0.000000</td>\n",
       "      <td>0.0</td>\n",
       "      <td>0.014563</td>\n",
       "      <td>0.044872</td>\n",
       "      <td>0.000000</td>\n",
       "    </tr>\n",
       "    <tr>\n",
       "      <th>...</th>\n",
       "      <td>...</td>\n",
       "      <td>...</td>\n",
       "      <td>...</td>\n",
       "      <td>...</td>\n",
       "      <td>...</td>\n",
       "      <td>...</td>\n",
       "      <td>...</td>\n",
       "      <td>...</td>\n",
       "      <td>...</td>\n",
       "      <td>...</td>\n",
       "      <td>...</td>\n",
       "      <td>...</td>\n",
       "      <td>...</td>\n",
       "      <td>...</td>\n",
       "      <td>...</td>\n",
       "      <td>...</td>\n",
       "      <td>...</td>\n",
       "      <td>...</td>\n",
       "      <td>...</td>\n",
       "      <td>...</td>\n",
       "      <td>...</td>\n",
       "    </tr>\n",
       "    <tr>\n",
       "      <th>99563</th>\n",
       "      <td>0.363636</td>\n",
       "      <td>0.400000</td>\n",
       "      <td>0.166667</td>\n",
       "      <td>0.462276</td>\n",
       "      <td>0.443925</td>\n",
       "      <td>0.518549</td>\n",
       "      <td>0.490670</td>\n",
       "      <td>0.216963</td>\n",
       "      <td>0.123457</td>\n",
       "      <td>0.082171</td>\n",
       "      <td>...</td>\n",
       "      <td>0.063870</td>\n",
       "      <td>0.009097</td>\n",
       "      <td>0.043022</td>\n",
       "      <td>0.032258</td>\n",
       "      <td>0.049708</td>\n",
       "      <td>0.000000</td>\n",
       "      <td>0.0</td>\n",
       "      <td>0.026214</td>\n",
       "      <td>0.000000</td>\n",
       "      <td>0.019763</td>\n",
       "    </tr>\n",
       "    <tr>\n",
       "      <th>99564</th>\n",
       "      <td>0.454545</td>\n",
       "      <td>0.933333</td>\n",
       "      <td>1.000000</td>\n",
       "      <td>0.761984</td>\n",
       "      <td>0.698811</td>\n",
       "      <td>0.877449</td>\n",
       "      <td>0.815098</td>\n",
       "      <td>0.086867</td>\n",
       "      <td>0.219136</td>\n",
       "      <td>0.213953</td>\n",
       "      <td>...</td>\n",
       "      <td>0.098936</td>\n",
       "      <td>0.060429</td>\n",
       "      <td>0.148253</td>\n",
       "      <td>0.037634</td>\n",
       "      <td>0.061404</td>\n",
       "      <td>0.001946</td>\n",
       "      <td>0.0</td>\n",
       "      <td>0.005825</td>\n",
       "      <td>0.000000</td>\n",
       "      <td>0.092885</td>\n",
       "    </tr>\n",
       "    <tr>\n",
       "      <th>99565</th>\n",
       "      <td>0.818182</td>\n",
       "      <td>0.166667</td>\n",
       "      <td>0.000000</td>\n",
       "      <td>0.293039</td>\n",
       "      <td>0.276126</td>\n",
       "      <td>0.395165</td>\n",
       "      <td>0.402036</td>\n",
       "      <td>0.174556</td>\n",
       "      <td>0.231481</td>\n",
       "      <td>0.246512</td>\n",
       "      <td>...</td>\n",
       "      <td>0.034440</td>\n",
       "      <td>0.001949</td>\n",
       "      <td>0.212886</td>\n",
       "      <td>0.016129</td>\n",
       "      <td>0.067251</td>\n",
       "      <td>0.001297</td>\n",
       "      <td>0.0</td>\n",
       "      <td>0.000971</td>\n",
       "      <td>0.000000</td>\n",
       "      <td>0.007905</td>\n",
       "    </tr>\n",
       "    <tr>\n",
       "      <th>99566</th>\n",
       "      <td>0.000000</td>\n",
       "      <td>0.966667</td>\n",
       "      <td>0.333333</td>\n",
       "      <td>0.669446</td>\n",
       "      <td>0.645285</td>\n",
       "      <td>0.715715</td>\n",
       "      <td>0.695081</td>\n",
       "      <td>0.304754</td>\n",
       "      <td>0.179012</td>\n",
       "      <td>0.187597</td>\n",
       "      <td>...</td>\n",
       "      <td>0.058234</td>\n",
       "      <td>0.024042</td>\n",
       "      <td>0.139366</td>\n",
       "      <td>0.021505</td>\n",
       "      <td>0.038012</td>\n",
       "      <td>0.024643</td>\n",
       "      <td>0.0</td>\n",
       "      <td>0.000000</td>\n",
       "      <td>0.000000</td>\n",
       "      <td>0.000000</td>\n",
       "    </tr>\n",
       "    <tr>\n",
       "      <th>99567</th>\n",
       "      <td>0.090909</td>\n",
       "      <td>0.333333</td>\n",
       "      <td>0.000000</td>\n",
       "      <td>0.761150</td>\n",
       "      <td>0.771028</td>\n",
       "      <td>0.972489</td>\n",
       "      <td>0.991942</td>\n",
       "      <td>0.089537</td>\n",
       "      <td>0.265432</td>\n",
       "      <td>0.286822</td>\n",
       "      <td>...</td>\n",
       "      <td>0.030683</td>\n",
       "      <td>0.000650</td>\n",
       "      <td>0.298526</td>\n",
       "      <td>0.032258</td>\n",
       "      <td>0.017544</td>\n",
       "      <td>0.001297</td>\n",
       "      <td>0.0</td>\n",
       "      <td>0.000971</td>\n",
       "      <td>0.000000</td>\n",
       "      <td>0.007905</td>\n",
       "    </tr>\n",
       "  </tbody>\n",
       "</table>\n",
       "<p>99568 rows × 21 columns</p>\n",
       "</div>"
      ],
      "text/plain": [
       "          Month  DayofMonth  DayOfWeek   DepTime  CRSDepTime   ArrTime  \\\n",
       "0      1.000000    0.166667   0.833333  0.751980    0.743415  0.894123   \n",
       "1      0.181818    0.733333   1.000000  0.883285    0.507647  0.933722   \n",
       "2      0.181818    1.000000   0.000000  0.721134    0.724299  0.757816   \n",
       "3      0.000000    0.166667   1.000000  0.627762    0.598131  0.666945   \n",
       "4      0.363636    0.700000   0.500000  0.265110    0.265506  0.338058   \n",
       "...         ...         ...        ...       ...         ...       ...   \n",
       "99563  0.363636    0.400000   0.166667  0.462276    0.443925  0.518549   \n",
       "99564  0.454545    0.933333   1.000000  0.761984    0.698811  0.877449   \n",
       "99565  0.818182    0.166667   0.000000  0.293039    0.276126  0.395165   \n",
       "99566  0.000000    0.966667   0.333333  0.669446    0.645285  0.715715   \n",
       "99567  0.090909    0.333333   0.000000  0.761150    0.771028  0.972489   \n",
       "\n",
       "       CRSArrTime  FlightNum  ActualElapsedTime  CRSElapsedTime  ...  \\\n",
       "0        0.862595   0.747510           0.410494        0.317829  ...   \n",
       "1        0.564885   0.013348           0.101852        0.120930  ...   \n",
       "2        0.767176   0.377349           0.050926        0.069767  ...   \n",
       "3        0.639525   0.674813           0.060185        0.063566  ...   \n",
       "4        0.317642   0.191806           0.216049        0.193798  ...   \n",
       "...           ...        ...                ...             ...  ...   \n",
       "99563    0.490670   0.216963           0.123457        0.082171  ...   \n",
       "99564    0.815098   0.086867           0.219136        0.213953  ...   \n",
       "99565    0.402036   0.174556           0.231481        0.246512  ...   \n",
       "99566    0.695081   0.304754           0.179012        0.187597  ...   \n",
       "99567    0.991942   0.089537           0.265432        0.286822  ...   \n",
       "\n",
       "       ArrDelay  DepDelay  Distance    TaxiIn   TaxiOut  CarrierDelay  \\\n",
       "0      0.078898  0.002599  0.259746  0.026882  0.289474      0.046044   \n",
       "1      0.377583  0.359974  0.065239  0.037634  0.055556      0.352140   \n",
       "2      0.040075  0.009747  0.028075  0.016129  0.002924      0.001297   \n",
       "3      0.067001  0.031189  0.026459  0.026882  0.049708      0.000000   \n",
       "4      0.048215  0.000650  0.162795  0.026882  0.046784      0.000000   \n",
       "...         ...       ...       ...       ...       ...           ...   \n",
       "99563  0.063870  0.009097  0.043022  0.032258  0.049708      0.000000   \n",
       "99564  0.098936  0.060429  0.148253  0.037634  0.061404      0.001946   \n",
       "99565  0.034440  0.001949  0.212886  0.016129  0.067251      0.001297   \n",
       "99566  0.058234  0.024042  0.139366  0.021505  0.038012      0.024643   \n",
       "99567  0.030683  0.000650  0.298526  0.032258  0.017544      0.001297   \n",
       "\n",
       "       WeatherDelay  NASDelay  SecurityDelay  LateAircraftDelay  \n",
       "0               0.0  0.000000       0.000000           0.000000  \n",
       "1               0.0  0.000000       0.000000           0.004941  \n",
       "2               0.0  0.000971       0.000000           0.007905  \n",
       "3               0.0  0.000000       0.000000           0.051383  \n",
       "4               0.0  0.014563       0.044872           0.000000  \n",
       "...             ...       ...            ...                ...  \n",
       "99563           0.0  0.026214       0.000000           0.019763  \n",
       "99564           0.0  0.005825       0.000000           0.092885  \n",
       "99565           0.0  0.000971       0.000000           0.007905  \n",
       "99566           0.0  0.000000       0.000000           0.000000  \n",
       "99567           0.0  0.000971       0.000000           0.007905  \n",
       "\n",
       "[99568 rows x 21 columns]"
      ]
     },
     "execution_count": 37,
     "metadata": {},
     "output_type": "execute_result"
    }
   ],
   "source": [
    "fly2Norm = pd.DataFrame(data = fly2Norm, columns = numVar)\n",
    "fly2Norm"
   ]
  },
  {
   "cell_type": "code",
   "execution_count": 69,
   "id": "080eef3b",
   "metadata": {},
   "outputs": [
    {
     "data": {
      "image/png": "[encoded data removed]",
      "text/plain": [
       "<Figure size 2160x720 with 1 Axes>"
      ]
     },
     "metadata": {},
     "output_type": "display_data"
    }
   ],
   "source": [
    "plt.figure(figsize = (30, 10))\n",
    "fly2Norm.boxplot()\n",
    "plt.show()"
   ]
  },
  {
   "cell_type": "markdown",
   "id": "7a4cbd6c",
   "metadata": {},
   "source": [
    "Es evident que encara s'arrosseguen molts outliers que no es poden eliminar però han sigut tractats en la mesura de lo possible amb RobustScaler i s'han escalat tots els valors entre 0 i 1. \n",
    "\n"
   ]
  },
  {
   "cell_type": "markdown",
   "id": "2b9943a9",
   "metadata": {},
   "source": [
    "Un cop s'ha treballat amb tota la part numèrica es passa a treballar amb la part categòrica"
   ]
  },
  {
   "cell_type": "code",
   "execution_count": 25,
   "id": "a49e89dc",
   "metadata": {
    "scrolled": true
   },
   "outputs": [
    {
     "data": {
      "text/html": [
       "<div>\n",
       "<style scoped>\n",
       "    .dataframe tbody tr th:only-of-type {\n",
       "        vertical-align: middle;\n",
       "    }\n",
       "\n",
       "    .dataframe tbody tr th {\n",
       "        vertical-align: top;\n",
       "    }\n",
       "\n",
       "    .dataframe thead th {\n",
       "        text-align: right;\n",
       "    }\n",
       "</style>\n",
       "<table border=\"1\" class=\"dataframe\">\n",
       "  <thead>\n",
       "    <tr style=\"text-align: right;\">\n",
       "      <th></th>\n",
       "      <th>UniqueCarrier</th>\n",
       "      <th>TailNum</th>\n",
       "      <th>Origin</th>\n",
       "      <th>Dest</th>\n",
       "    </tr>\n",
       "  </thead>\n",
       "  <tbody>\n",
       "    <tr>\n",
       "      <th>1782417</th>\n",
       "      <td>YV</td>\n",
       "      <td>N505MJ</td>\n",
       "      <td>IAD</td>\n",
       "      <td>AUS</td>\n",
       "    </tr>\n",
       "    <tr>\n",
       "      <th>512712</th>\n",
       "      <td>NW</td>\n",
       "      <td>N777NC</td>\n",
       "      <td>ORD</td>\n",
       "      <td>MSP</td>\n",
       "    </tr>\n",
       "    <tr>\n",
       "      <th>447137</th>\n",
       "      <td>OO</td>\n",
       "      <td>N224SW</td>\n",
       "      <td>SLC</td>\n",
       "      <td>PIH</td>\n",
       "    </tr>\n",
       "    <tr>\n",
       "      <th>55082</th>\n",
       "      <td>OO</td>\n",
       "      <td>N708SK</td>\n",
       "      <td>HDN</td>\n",
       "      <td>DEN</td>\n",
       "    </tr>\n",
       "    <tr>\n",
       "      <th>877634</th>\n",
       "      <td>CO</td>\n",
       "      <td>N16646</td>\n",
       "      <td>JAX</td>\n",
       "      <td>IAH</td>\n",
       "    </tr>\n",
       "  </tbody>\n",
       "</table>\n",
       "</div>"
      ],
      "text/plain": [
       "        UniqueCarrier TailNum Origin Dest\n",
       "1782417            YV  N505MJ    IAD  AUS\n",
       "512712             NW  N777NC    ORD  MSP\n",
       "447137             OO  N224SW    SLC  PIH\n",
       "55082              OO  N708SK    HDN  DEN\n",
       "877634             CO  N16646    JAX  IAH"
      ]
     },
     "execution_count": 25,
     "metadata": {},
     "output_type": "execute_result"
    }
   ],
   "source": [
    "fly2Cat.head()"
   ]
  },
  {
   "cell_type": "markdown",
   "id": "8c2e0104",
   "metadata": {},
   "source": [
    "Per a fer el dummies s'utilitzaran esl següents prefixos per fer referència a les variables originals:\n",
    "* UniqueCarrier: UC-\n",
    "* TailNum: TN-\n",
    "* Origin: O-\n",
    "* Dest: D-"
   ]
  },
  {
   "cell_type": "code",
   "execution_count": 26,
   "id": "9ea1a6af",
   "metadata": {
    "scrolled": true
   },
   "outputs": [],
   "source": [
    "fly2Dummies = pd.get_dummies(data = fly2Cat, prefix = ['UC-', 'TN-', 'O-', 'D-'])"
   ]
  },
  {
   "cell_type": "code",
   "execution_count": 27,
   "id": "aba3d8bf",
   "metadata": {},
   "outputs": [
    {
     "data": {
      "text/html": [
       "<div>\n",
       "<style scoped>\n",
       "    .dataframe tbody tr th:only-of-type {\n",
       "        vertical-align: middle;\n",
       "    }\n",
       "\n",
       "    .dataframe tbody tr th {\n",
       "        vertical-align: top;\n",
       "    }\n",
       "\n",
       "    .dataframe thead th {\n",
       "        text-align: right;\n",
       "    }\n",
       "</style>\n",
       "<table border=\"1\" class=\"dataframe\">\n",
       "  <thead>\n",
       "    <tr style=\"text-align: right;\">\n",
       "      <th></th>\n",
       "      <th>UC-_9E</th>\n",
       "      <th>UC-_AA</th>\n",
       "      <th>UC-_AQ</th>\n",
       "      <th>UC-_AS</th>\n",
       "      <th>UC-_B6</th>\n",
       "      <th>UC-_CO</th>\n",
       "      <th>UC-_DL</th>\n",
       "      <th>UC-_EV</th>\n",
       "      <th>UC-_F9</th>\n",
       "      <th>UC-_FL</th>\n",
       "      <th>...</th>\n",
       "      <th>D-_TXK</th>\n",
       "      <th>D-_TYR</th>\n",
       "      <th>D-_TYS</th>\n",
       "      <th>D-_VLD</th>\n",
       "      <th>D-_VPS</th>\n",
       "      <th>D-_WRG</th>\n",
       "      <th>D-_XNA</th>\n",
       "      <th>D-_YAK</th>\n",
       "      <th>D-_YKM</th>\n",
       "      <th>D-_YUM</th>\n",
       "    </tr>\n",
       "  </thead>\n",
       "  <tbody>\n",
       "    <tr>\n",
       "      <th>1782417</th>\n",
       "      <td>0</td>\n",
       "      <td>0</td>\n",
       "      <td>0</td>\n",
       "      <td>0</td>\n",
       "      <td>0</td>\n",
       "      <td>0</td>\n",
       "      <td>0</td>\n",
       "      <td>0</td>\n",
       "      <td>0</td>\n",
       "      <td>0</td>\n",
       "      <td>...</td>\n",
       "      <td>0</td>\n",
       "      <td>0</td>\n",
       "      <td>0</td>\n",
       "      <td>0</td>\n",
       "      <td>0</td>\n",
       "      <td>0</td>\n",
       "      <td>0</td>\n",
       "      <td>0</td>\n",
       "      <td>0</td>\n",
       "      <td>0</td>\n",
       "    </tr>\n",
       "    <tr>\n",
       "      <th>512712</th>\n",
       "      <td>0</td>\n",
       "      <td>0</td>\n",
       "      <td>0</td>\n",
       "      <td>0</td>\n",
       "      <td>0</td>\n",
       "      <td>0</td>\n",
       "      <td>0</td>\n",
       "      <td>0</td>\n",
       "      <td>0</td>\n",
       "      <td>0</td>\n",
       "      <td>...</td>\n",
       "      <td>0</td>\n",
       "      <td>0</td>\n",
       "      <td>0</td>\n",
       "      <td>0</td>\n",
       "      <td>0</td>\n",
       "      <td>0</td>\n",
       "      <td>0</td>\n",
       "      <td>0</td>\n",
       "      <td>0</td>\n",
       "      <td>0</td>\n",
       "    </tr>\n",
       "    <tr>\n",
       "      <th>447137</th>\n",
       "      <td>0</td>\n",
       "      <td>0</td>\n",
       "      <td>0</td>\n",
       "      <td>0</td>\n",
       "      <td>0</td>\n",
       "      <td>0</td>\n",
       "      <td>0</td>\n",
       "      <td>0</td>\n",
       "      <td>0</td>\n",
       "      <td>0</td>\n",
       "      <td>...</td>\n",
       "      <td>0</td>\n",
       "      <td>0</td>\n",
       "      <td>0</td>\n",
       "      <td>0</td>\n",
       "      <td>0</td>\n",
       "      <td>0</td>\n",
       "      <td>0</td>\n",
       "      <td>0</td>\n",
       "      <td>0</td>\n",
       "      <td>0</td>\n",
       "    </tr>\n",
       "    <tr>\n",
       "      <th>55082</th>\n",
       "      <td>0</td>\n",
       "      <td>0</td>\n",
       "      <td>0</td>\n",
       "      <td>0</td>\n",
       "      <td>0</td>\n",
       "      <td>0</td>\n",
       "      <td>0</td>\n",
       "      <td>0</td>\n",
       "      <td>0</td>\n",
       "      <td>0</td>\n",
       "      <td>...</td>\n",
       "      <td>0</td>\n",
       "      <td>0</td>\n",
       "      <td>0</td>\n",
       "      <td>0</td>\n",
       "      <td>0</td>\n",
       "      <td>0</td>\n",
       "      <td>0</td>\n",
       "      <td>0</td>\n",
       "      <td>0</td>\n",
       "      <td>0</td>\n",
       "    </tr>\n",
       "    <tr>\n",
       "      <th>877634</th>\n",
       "      <td>0</td>\n",
       "      <td>0</td>\n",
       "      <td>0</td>\n",
       "      <td>0</td>\n",
       "      <td>0</td>\n",
       "      <td>1</td>\n",
       "      <td>0</td>\n",
       "      <td>0</td>\n",
       "      <td>0</td>\n",
       "      <td>0</td>\n",
       "      <td>...</td>\n",
       "      <td>0</td>\n",
       "      <td>0</td>\n",
       "      <td>0</td>\n",
       "      <td>0</td>\n",
       "      <td>0</td>\n",
       "      <td>0</td>\n",
       "      <td>0</td>\n",
       "      <td>0</td>\n",
       "      <td>0</td>\n",
       "      <td>0</td>\n",
       "    </tr>\n",
       "  </tbody>\n",
       "</table>\n",
       "<p>5 rows × 5811 columns</p>\n",
       "</div>"
      ],
      "text/plain": [
       "         UC-_9E  UC-_AA  UC-_AQ  UC-_AS  UC-_B6  UC-_CO  UC-_DL  UC-_EV  \\\n",
       "1782417       0       0       0       0       0       0       0       0   \n",
       "512712        0       0       0       0       0       0       0       0   \n",
       "447137        0       0       0       0       0       0       0       0   \n",
       "55082         0       0       0       0       0       0       0       0   \n",
       "877634        0       0       0       0       0       1       0       0   \n",
       "\n",
       "         UC-_F9  UC-_FL  ...  D-_TXK  D-_TYR  D-_TYS  D-_VLD  D-_VPS  D-_WRG  \\\n",
       "1782417       0       0  ...       0       0       0       0       0       0   \n",
       "512712        0       0  ...       0       0       0       0       0       0   \n",
       "447137        0       0  ...       0       0       0       0       0       0   \n",
       "55082         0       0  ...       0       0       0       0       0       0   \n",
       "877634        0       0  ...       0       0       0       0       0       0   \n",
       "\n",
       "         D-_XNA  D-_YAK  D-_YKM  D-_YUM  \n",
       "1782417       0       0       0       0  \n",
       "512712        0       0       0       0  \n",
       "447137        0       0       0       0  \n",
       "55082         0       0       0       0  \n",
       "877634        0       0       0       0  \n",
       "\n",
       "[5 rows x 5811 columns]"
      ]
     },
     "execution_count": 27,
     "metadata": {},
     "output_type": "execute_result"
    }
   ],
   "source": [
    "fly2Dummies.head()"
   ]
  },
  {
   "cell_type": "code",
   "execution_count": 28,
   "id": "ee513781",
   "metadata": {},
   "outputs": [
    {
     "data": {
      "text/html": [
       "<div>\n",
       "<style scoped>\n",
       "    .dataframe tbody tr th:only-of-type {\n",
       "        vertical-align: middle;\n",
       "    }\n",
       "\n",
       "    .dataframe tbody tr th {\n",
       "        vertical-align: top;\n",
       "    }\n",
       "\n",
       "    .dataframe thead th {\n",
       "        text-align: right;\n",
       "    }\n",
       "</style>\n",
       "<table border=\"1\" class=\"dataframe\">\n",
       "  <thead>\n",
       "    <tr style=\"text-align: right;\">\n",
       "      <th></th>\n",
       "      <th>UC-_9E</th>\n",
       "      <th>UC-_AA</th>\n",
       "      <th>UC-_AQ</th>\n",
       "      <th>UC-_AS</th>\n",
       "      <th>UC-_B6</th>\n",
       "      <th>UC-_CO</th>\n",
       "      <th>UC-_DL</th>\n",
       "      <th>UC-_EV</th>\n",
       "      <th>UC-_F9</th>\n",
       "      <th>UC-_FL</th>\n",
       "      <th>...</th>\n",
       "      <th>D-_TXK</th>\n",
       "      <th>D-_TYR</th>\n",
       "      <th>D-_TYS</th>\n",
       "      <th>D-_VLD</th>\n",
       "      <th>D-_VPS</th>\n",
       "      <th>D-_WRG</th>\n",
       "      <th>D-_XNA</th>\n",
       "      <th>D-_YAK</th>\n",
       "      <th>D-_YKM</th>\n",
       "      <th>D-_YUM</th>\n",
       "    </tr>\n",
       "  </thead>\n",
       "  <tbody>\n",
       "    <tr>\n",
       "      <th>764022</th>\n",
       "      <td>0</td>\n",
       "      <td>0</td>\n",
       "      <td>0</td>\n",
       "      <td>0</td>\n",
       "      <td>0</td>\n",
       "      <td>0</td>\n",
       "      <td>0</td>\n",
       "      <td>0</td>\n",
       "      <td>0</td>\n",
       "      <td>0</td>\n",
       "      <td>...</td>\n",
       "      <td>0</td>\n",
       "      <td>0</td>\n",
       "      <td>0</td>\n",
       "      <td>0</td>\n",
       "      <td>0</td>\n",
       "      <td>0</td>\n",
       "      <td>0</td>\n",
       "      <td>0</td>\n",
       "      <td>0</td>\n",
       "      <td>0</td>\n",
       "    </tr>\n",
       "    <tr>\n",
       "      <th>988054</th>\n",
       "      <td>0</td>\n",
       "      <td>0</td>\n",
       "      <td>0</td>\n",
       "      <td>0</td>\n",
       "      <td>0</td>\n",
       "      <td>0</td>\n",
       "      <td>1</td>\n",
       "      <td>0</td>\n",
       "      <td>0</td>\n",
       "      <td>0</td>\n",
       "      <td>...</td>\n",
       "      <td>0</td>\n",
       "      <td>0</td>\n",
       "      <td>0</td>\n",
       "      <td>0</td>\n",
       "      <td>0</td>\n",
       "      <td>0</td>\n",
       "      <td>0</td>\n",
       "      <td>0</td>\n",
       "      <td>0</td>\n",
       "      <td>0</td>\n",
       "    </tr>\n",
       "    <tr>\n",
       "      <th>1623497</th>\n",
       "      <td>0</td>\n",
       "      <td>0</td>\n",
       "      <td>0</td>\n",
       "      <td>0</td>\n",
       "      <td>0</td>\n",
       "      <td>1</td>\n",
       "      <td>0</td>\n",
       "      <td>0</td>\n",
       "      <td>0</td>\n",
       "      <td>0</td>\n",
       "      <td>...</td>\n",
       "      <td>0</td>\n",
       "      <td>0</td>\n",
       "      <td>0</td>\n",
       "      <td>0</td>\n",
       "      <td>0</td>\n",
       "      <td>0</td>\n",
       "      <td>0</td>\n",
       "      <td>0</td>\n",
       "      <td>0</td>\n",
       "      <td>0</td>\n",
       "    </tr>\n",
       "    <tr>\n",
       "      <th>139908</th>\n",
       "      <td>1</td>\n",
       "      <td>0</td>\n",
       "      <td>0</td>\n",
       "      <td>0</td>\n",
       "      <td>0</td>\n",
       "      <td>0</td>\n",
       "      <td>0</td>\n",
       "      <td>0</td>\n",
       "      <td>0</td>\n",
       "      <td>0</td>\n",
       "      <td>...</td>\n",
       "      <td>0</td>\n",
       "      <td>0</td>\n",
       "      <td>0</td>\n",
       "      <td>0</td>\n",
       "      <td>0</td>\n",
       "      <td>0</td>\n",
       "      <td>0</td>\n",
       "      <td>0</td>\n",
       "      <td>0</td>\n",
       "      <td>0</td>\n",
       "    </tr>\n",
       "    <tr>\n",
       "      <th>195101</th>\n",
       "      <td>0</td>\n",
       "      <td>0</td>\n",
       "      <td>0</td>\n",
       "      <td>0</td>\n",
       "      <td>0</td>\n",
       "      <td>0</td>\n",
       "      <td>0</td>\n",
       "      <td>0</td>\n",
       "      <td>0</td>\n",
       "      <td>0</td>\n",
       "      <td>...</td>\n",
       "      <td>0</td>\n",
       "      <td>0</td>\n",
       "      <td>0</td>\n",
       "      <td>0</td>\n",
       "      <td>0</td>\n",
       "      <td>0</td>\n",
       "      <td>0</td>\n",
       "      <td>0</td>\n",
       "      <td>0</td>\n",
       "      <td>0</td>\n",
       "    </tr>\n",
       "  </tbody>\n",
       "</table>\n",
       "<p>5 rows × 5811 columns</p>\n",
       "</div>"
      ],
      "text/plain": [
       "         UC-_9E  UC-_AA  UC-_AQ  UC-_AS  UC-_B6  UC-_CO  UC-_DL  UC-_EV  \\\n",
       "764022        0       0       0       0       0       0       0       0   \n",
       "988054        0       0       0       0       0       0       1       0   \n",
       "1623497       0       0       0       0       0       1       0       0   \n",
       "139908        1       0       0       0       0       0       0       0   \n",
       "195101        0       0       0       0       0       0       0       0   \n",
       "\n",
       "         UC-_F9  UC-_FL  ...  D-_TXK  D-_TYR  D-_TYS  D-_VLD  D-_VPS  D-_WRG  \\\n",
       "764022        0       0  ...       0       0       0       0       0       0   \n",
       "988054        0       0  ...       0       0       0       0       0       0   \n",
       "1623497       0       0  ...       0       0       0       0       0       0   \n",
       "139908        0       0  ...       0       0       0       0       0       0   \n",
       "195101        0       0  ...       0       0       0       0       0       0   \n",
       "\n",
       "         D-_XNA  D-_YAK  D-_YKM  D-_YUM  \n",
       "764022        0       0       0       0  \n",
       "988054        0       0       0       0  \n",
       "1623497       0       0       0       0  \n",
       "139908        0       0       0       0  \n",
       "195101        0       0       0       0  \n",
       "\n",
       "[5 rows x 5811 columns]"
      ]
     },
     "execution_count": 28,
     "metadata": {},
     "output_type": "execute_result"
    }
   ],
   "source": [
    "fly2Dummies.tail()"
   ]
  },
  {
   "cell_type": "code",
   "execution_count": 29,
   "id": "7b1dff70",
   "metadata": {},
   "outputs": [
    {
     "data": {
      "text/plain": [
       "(99568, 5811)"
      ]
     },
     "execution_count": 29,
     "metadata": {},
     "output_type": "execute_result"
    }
   ],
   "source": [
    "fly2Dummies.shape"
   ]
  },
  {
   "cell_type": "code",
   "execution_count": 30,
   "id": "cec93c7e",
   "metadata": {},
   "outputs": [],
   "source": [
    "n = fly2Dummies.isna().sum()"
   ]
  },
  {
   "cell_type": "code",
   "execution_count": 31,
   "id": "ae78e3e2",
   "metadata": {},
   "outputs": [],
   "source": [
    "n2 = n > 0"
   ]
  },
  {
   "cell_type": "code",
   "execution_count": 32,
   "id": "6bb5adb6",
   "metadata": {},
   "outputs": [
    {
     "data": {
      "text/plain": [
       "False    5811\n",
       "dtype: int64"
      ]
     },
     "execution_count": 32,
     "metadata": {},
     "output_type": "execute_result"
    }
   ],
   "source": [
    "n2.value_counts()"
   ]
  },
  {
   "cell_type": "markdown",
   "id": "8f50ce82",
   "metadata": {},
   "source": [
    "Ara passem a unir tots dos dataframes"
   ]
  },
  {
   "cell_type": "code",
   "execution_count": 33,
   "id": "9e0fe1b7",
   "metadata": {},
   "outputs": [
    {
     "name": "stdout",
     "output_type": "stream",
     "text": [
      "(99568, 21)\n",
      "(99568, 5811)\n"
     ]
    }
   ],
   "source": [
    "print(fly2Norm.shape)\n",
    "print(fly2Dummies.shape)"
   ]
  },
  {
   "cell_type": "code",
   "execution_count": 38,
   "id": "e1fc700c",
   "metadata": {
    "scrolled": true
   },
   "outputs": [],
   "source": [
    "flyTot = pd.concat([fly2Norm, fly2Dummies], axis = 1)\n"
   ]
  },
  {
   "cell_type": "markdown",
   "id": "a89319a3",
   "metadata": {},
   "source": [
    "axis 1 5201, 194074\n",
    "axis 0 5201, 99568"
   ]
  },
  {
   "cell_type": "code",
   "execution_count": 39,
   "id": "49feff5c",
   "metadata": {
    "scrolled": true
   },
   "outputs": [
    {
     "name": "stdout",
     "output_type": "stream",
     "text": [
      "      Month  DayofMonth  DayOfWeek   DepTime  CRSDepTime   ArrTime  \\\n",
      "0  1.000000    0.166667   0.833333  0.751980    0.743415  0.894123   \n",
      "1  0.181818    0.733333   1.000000  0.883285    0.507647  0.933722   \n",
      "2  0.181818    1.000000   0.000000  0.721134    0.724299  0.757816   \n",
      "3  0.000000    0.166667   1.000000  0.627762    0.598131  0.666945   \n",
      "4  0.363636    0.700000   0.500000  0.265110    0.265506  0.338058   \n",
      "\n",
      "   CRSArrTime  FlightNum  ActualElapsedTime  CRSElapsedTime  ...  D-_TXK  \\\n",
      "0    0.862595   0.747510           0.410494        0.317829  ...     NaN   \n",
      "1    0.564885   0.013348           0.101852        0.120930  ...     NaN   \n",
      "2    0.767176   0.377349           0.050926        0.069767  ...     NaN   \n",
      "3    0.639525   0.674813           0.060185        0.063566  ...     NaN   \n",
      "4    0.317642   0.191806           0.216049        0.193798  ...     NaN   \n",
      "\n",
      "   D-_TYR  D-_TYS  D-_VLD  D-_VPS  D-_WRG  D-_XNA  D-_YAK  D-_YKM  D-_YUM  \n",
      "0     NaN     NaN     NaN     NaN     NaN     NaN     NaN     NaN     NaN  \n",
      "1     NaN     NaN     NaN     NaN     NaN     NaN     NaN     NaN     NaN  \n",
      "2     NaN     NaN     NaN     NaN     NaN     NaN     NaN     NaN     NaN  \n",
      "3     NaN     NaN     NaN     NaN     NaN     NaN     NaN     NaN     NaN  \n",
      "4     NaN     NaN     NaN     NaN     NaN     NaN     NaN     NaN     NaN  \n",
      "\n",
      "[5 rows x 5832 columns]\n",
      "(194074, 5832)\n"
     ]
    }
   ],
   "source": [
    "print(flyTot.head())\n",
    "print(flyTot.shape)"
   ]
  },
  {
   "cell_type": "code",
   "execution_count": 86,
   "id": "2892278a",
   "metadata": {},
   "outputs": [
    {
     "name": "stdout",
     "output_type": "stream",
     "text": [
      "(99568, 21)\n",
      "(99568, 5811)\n"
     ]
    }
   ],
   "source": [
    "print(fly2Norm.shape)\n",
    "print(fly2Dummies.shape)"
   ]
  },
  {
   "cell_type": "code",
   "execution_count": 87,
   "id": "472e7516",
   "metadata": {},
   "outputs": [
    {
     "data": {
      "text/plain": [
       "94506"
      ]
     },
     "execution_count": 87,
     "metadata": {},
     "output_type": "execute_result"
    }
   ],
   "source": [
    "194074-99568"
   ]
  },
  {
   "cell_type": "markdown",
   "id": "c3b721f0",
   "metadata": {},
   "source": [
    "\n",
    "\n",
    "## Divisió de les dades\n",
    "\n",
    "Fins que es puguin unir els dos dataframes de moment només treballarem amb dades quantitatives"
   ]
  },
  {
   "cell_type": "code",
   "execution_count": 43,
   "id": "6b3be76e",
   "metadata": {},
   "outputs": [],
   "source": [
    "from sklearn.model_selection import train_test_split\n",
    "\n",
    "x = fly2Norm.drop('ArrDelay', axis = 1)\n",
    "y = fly2Norm.loc[:,'ArrDelay']\n",
    "x_train, x_test, y_train, y_test = train_test_split(x, y, random_state=42, train_size = 0.7)"
   ]
  },
  {
   "cell_type": "code",
   "execution_count": 44,
   "id": "fde56678",
   "metadata": {},
   "outputs": [
    {
     "name": "stdout",
     "output_type": "stream",
     "text": [
      "(69697, 20) (29871, 20) (69697,) (29871,)\n"
     ]
    }
   ],
   "source": [
    "print(x_train.shape, x_test.shape, y_train.shape, y_test.shape)"
   ]
  },
  {
   "cell_type": "markdown",
   "id": "cb53c83b",
   "metadata": {},
   "source": [
    "### Regressió múltiple"
   ]
  },
  {
   "cell_type": "code",
   "execution_count": 45,
   "id": "9c6594ff",
   "metadata": {},
   "outputs": [],
   "source": [
    "#Regressió múltiple\n",
    "\n",
    "from sklearn.linear_model import LinearRegression\n",
    "\n",
    "model = LinearRegression().fit(x_train, y_train)\n"
   ]
  },
  {
   "cell_type": "code",
   "execution_count": 47,
   "id": "4e704de7",
   "metadata": {},
   "outputs": [
    {
     "name": "stdout",
     "output_type": "stream",
     "text": [
      "R^2:  1.0\n"
     ]
    }
   ],
   "source": [
    "print('R^2: ', model.score(x_train, y_train))"
   ]
  },
  {
   "cell_type": "markdown",
   "id": "0452cb8e",
   "metadata": {},
   "source": [
    "### Decision tree"
   ]
  },
  {
   "cell_type": "code",
   "execution_count": 48,
   "id": "ee614b3a",
   "metadata": {},
   "outputs": [],
   "source": [
    "from sklearn.tree import DecisionTreeRegressor\n",
    "\n",
    "regressor = DecisionTreeRegressor(random_state=0)\n",
    "\n",
    "tree = regressor.fit(x_train,y_train)"
   ]
  },
  {
   "cell_type": "code",
   "execution_count": 51,
   "id": "1455c9bd",
   "metadata": {},
   "outputs": [
    {
     "data": {
      "text/plain": [
       "0.9869825622343482"
      ]
     },
     "execution_count": 51,
     "metadata": {},
     "output_type": "execute_result"
    }
   ],
   "source": [
    "tree.score(x_test, y_test)"
   ]
  },
  {
   "cell_type": "markdown",
   "id": "ae5e11ea",
   "metadata": {},
   "source": [
    "### LASSO"
   ]
  },
  {
   "cell_type": "code",
   "execution_count": 54,
   "id": "1d123667",
   "metadata": {},
   "outputs": [
    {
     "name": "stderr",
     "output_type": "stream",
     "text": [
      "C:\\Users\\Guillermo\\anaconda3\\lib\\site-packages\\sklearn\\linear_model\\_coordinate_descent.py:530: ConvergenceWarning: Objective did not converge. You might want to increase the number of iterations. Duality gap: 0.08165530861596021, tolerance: 0.00853527719633003\n",
      "  model = cd_fast.enet_coordinate_descent(\n"
     ]
    }
   ],
   "source": [
    "from sklearn.linear_model import LassoCV\n",
    "modelL = LassoCV()\n",
    "lasso = modelL.fit(x_train, y_train)"
   ]
  },
  {
   "cell_type": "markdown",
   "id": "22eefb02",
   "metadata": {},
   "source": [
    "\n",
    "\n",
    "## Exercici 2\n",
    "\n",
    "Compara’ls en base al MSE i al R2 .\n"
   ]
  },
  {
   "cell_type": "code",
   "execution_count": 55,
   "id": "a69a849b",
   "metadata": {},
   "outputs": [
    {
     "name": "stdout",
     "output_type": "stream",
     "text": [
      "R^2\n",
      "Regressió múltiple:\n",
      "  train:  1.0\n",
      "  test:  1.0\n",
      "\n",
      "Decision tree:\n",
      "  train:  1.0\n",
      "  test:  0.9869825622343482\n",
      "\n",
      "LASSO\n",
      "  train:  0.9999909841648112\n",
      "  test:  0.9999914901398274\n"
     ]
    }
   ],
   "source": [
    "print('R^2')\n",
    "print('Regressió múltiple:')\n",
    "print('  train: ', model.score(x_train, y_train))\n",
    "print('  test: ', model.score(x_test, y_test))\n",
    "print()\n",
    "print('Decision tree:')\n",
    "print('  train: ', tree.score(x_train, y_train))\n",
    "print('  test: ', tree.score(x_test, y_test))\n",
    "print()\n",
    "print('LASSO')\n",
    "print('  train: ', lasso.score(x_train, y_train))\n",
    "print('  test: ', lasso.score(x_test, y_test))\n"
   ]
  },
  {
   "cell_type": "code",
   "execution_count": 59,
   "id": "bf0b4b8d",
   "metadata": {},
   "outputs": [
    {
     "name": "stdout",
     "output_type": "stream",
     "text": [
      "MSE\n",
      "Regressió múltiple:\n",
      "  MSE:  1.0640575562541264e-32\n",
      "  RMSE:  1.0315316554784571e-16\n",
      "\n",
      "Decision tree:\n",
      "  MSE:  1.6861353503914926e-05\n",
      "  RMSE:  0.004106257846740134\n",
      "\n",
      "LASSO\n",
      "  MSE:  1.1022734521377682e-08\n",
      "  RMSE:  0.00010498921145230915\n"
     ]
    }
   ],
   "source": [
    "print('MSE')\n",
    "from sklearn.metrics import mean_squared_error\n",
    "import math\n",
    "\n",
    "print('Regressió múltiple:')\n",
    "lm_yPredict = model.predict(x_test)\n",
    "MSE_lm = mean_squared_error(y_test, lm_yPredict)\n",
    "print('  MSE: ', MSE_lm)\n",
    "print('  RMSE: ', math.sqrt(MSE_lm))\n",
    "print()\n",
    "\n",
    "print('Decision tree:')\n",
    "dt_yPredict = tree.predict(x_test)\n",
    "MSE_dt = mean_squared_error(y_test, dt_yPredict)\n",
    "print('  MSE: ', MSE_dt)\n",
    "print('  RMSE: ', math.sqrt(MSE_dt))\n",
    "print()\n",
    "\n",
    "print('LASSO')\n",
    "lasso_yPredict = lasso.predict(x_test)\n",
    "MSE_lasso = mean_squared_error(y_test, lasso_yPredict)\n",
    "print('  MSE: ', MSE_lasso)\n",
    "print('  RMSE: ', math.sqrt(MSE_lasso))"
   ]
  },
  {
   "cell_type": "markdown",
   "id": "288ead1e",
   "metadata": {},
   "source": [
    "Tant en $R^2$ com en MSE donen molt bon resultat. $R^2$ presenta un ajust molt bo sent de 1 en el train i de 1 o 0.9 en el test. Mentre que el MSE també dona resultats molt bons al ser la distància entre les dades predites i les reals. Tot i així, que les dades encaixin tan bé fa molt probable que estem davant d'una situació de overfitting que convé evitar.\n",
    "\n",
    "Per un altre costat, que Lasso baixi la predicció en relació a la resta de models pot ser donat perquè està pensat per utilitzar en variables amb una elevada correlació entre elles. Fet que no passa en aquest cas."
   ]
  },
  {
   "cell_type": "code",
   "execution_count": 62,
   "id": "ed1f16b7",
   "metadata": {},
   "outputs": [
    {
     "data": {
      "image/png": "[encoded data removed]",
      "text/plain": [
       "<Figure size 576x576 with 2 Axes>"
      ]
     },
     "metadata": {},
     "output_type": "display_data"
    }
   ],
   "source": [
    "plt.figure(figsize=(8,8))\n",
    "sns.heatmap(fly2Norm.corr())\n",
    "plt.title('Correlacio del dataset fly2 normalitzat i estandaritzat per la mitjana')\n",
    "plt.show()"
   ]
  },
  {
   "cell_type": "markdown",
   "id": "d5cca499",
   "metadata": {},
   "source": [
    "## Exercici 3\n",
    "\n",
    "Entrena’ls utilitzant els diferents paràmetres que admeten."
   ]
  },
  {
   "cell_type": "code",
   "execution_count": 65,
   "id": "8781ecf9",
   "metadata": {},
   "outputs": [
    {
     "name": "stdout",
     "output_type": "stream",
     "text": [
      "  train:  1.0\n",
      "  test:  1.0\n"
     ]
    }
   ],
   "source": [
    "#Regressió múltiple\n",
    "\n",
    "from sklearn.linear_model import LinearRegression\n",
    "\n",
    "model2 = LinearRegression(fit_intercept = False).fit(x_train, y_train)\n",
    "\n",
    "\n",
    "print('  train: ', model2.score(x_train, y_train))\n",
    "print('  test: ', model2.score(x_test, y_test))"
   ]
  },
  {
   "cell_type": "code",
   "execution_count": 66,
   "id": "a5143231",
   "metadata": {},
   "outputs": [
    {
     "name": "stdout",
     "output_type": "stream",
     "text": [
      "  train:  1.0\n",
      "  test:  1.0\n"
     ]
    }
   ],
   "source": [
    "model3 = LinearRegression(normalize = True).fit(x_train, y_train)\n",
    "\n",
    "\n",
    "print('  train: ', model3.score(x_train, y_train))\n",
    "print('  test: ', model3.score(x_test, y_test))"
   ]
  },
  {
   "cell_type": "code",
   "execution_count": 68,
   "id": "ec874890",
   "metadata": {},
   "outputs": [
    {
     "name": "stdout",
     "output_type": "stream",
     "text": [
      "  train:  1.0\n",
      "  test:  0.9830402096832789\n",
      "\n"
     ]
    }
   ],
   "source": [
    "#Decision tree\n",
    "\n",
    "regressor2 = DecisionTreeRegressor(random_state=0, splitter = 'random')\n",
    "\n",
    "tree2 = regressor2.fit(x_train,y_train)\n",
    "\n",
    "print('  train: ', tree2.score(x_train, y_train))\n",
    "print('  test: ', tree2.score(x_test, y_test))\n",
    "print()"
   ]
  },
  {
   "cell_type": "code",
   "execution_count": 75,
   "id": "8f17fcdb",
   "metadata": {},
   "outputs": [
    {
     "name": "stdout",
     "output_type": "stream",
     "text": [
      "  train:  0.9304811156838645\n",
      "  test:  0.9274188245364735\n",
      "\n"
     ]
    }
   ],
   "source": [
    "regressor3 = DecisionTreeRegressor(random_state=0, max_depth = 4)\n",
    "\n",
    "tree3 = regressor3.fit(x_train,y_train)\n",
    "\n",
    "print('  train: ', tree3.score(x_train, y_train))\n",
    "print('  test: ', tree3.score(x_test, y_test))\n",
    "print()"
   ]
  },
  {
   "cell_type": "code",
   "execution_count": 77,
   "id": "314d0b25",
   "metadata": {},
   "outputs": [
    {
     "name": "stdout",
     "output_type": "stream",
     "text": [
      "  train:  0.9999909841648112\n",
      "  test:  0.9999914901398274\n"
     ]
    },
    {
     "name": "stderr",
     "output_type": "stream",
     "text": [
      "C:\\Users\\Guillermo\\anaconda3\\lib\\site-packages\\sklearn\\linear_model\\_coordinate_descent.py:530: ConvergenceWarning: Objective did not converge. You might want to increase the number of iterations. Duality gap: 0.08165530861596021, tolerance: 0.00853527719633003\n",
      "  model = cd_fast.enet_coordinate_descent(\n"
     ]
    }
   ],
   "source": [
    "#LASSO\n",
    "modelL2 = LassoCV(n_alphas = 4)\n",
    "lasso2 = modelL2.fit(x_train, y_train)\n",
    "\n",
    "print('  train: ', lasso2.score(x_train, y_train))\n",
    "print('  test: ', lasso2.score(x_test, y_test))"
   ]
  },
  {
   "cell_type": "code",
   "execution_count": 78,
   "id": "261e6d87",
   "metadata": {},
   "outputs": [
    {
     "name": "stdout",
     "output_type": "stream",
     "text": [
      "  train:  0.9999911964785768\n",
      "  test:  0.9999917006714631\n"
     ]
    }
   ],
   "source": [
    "modelL3 = LassoCV(max_iter = 10000)\n",
    "lasso3 = modelL3.fit(x_train, y_train)\n",
    "\n",
    "print('  train: ', lasso3.score(x_train, y_train))\n",
    "print('  test: ', lasso3.score(x_test, y_test))"
   ]
  },
  {
   "cell_type": "markdown",
   "id": "4e428038",
   "metadata": {},
   "source": [
    "Després de modificar diferents paràmetres s'observa que no es produeixen grans variacions. Sent el cas més evident l'arbre de decisió al modificar la seva profunditat màxima"
   ]
  },
  {
   "cell_type": "markdown",
   "id": "a1b1d6fa",
   "metadata": {},
   "source": [
    "## Exercici 4\n",
    "\n",
    "Compara el seu rendiment utilitzant l’aproximació traint/test o utilitzant totes les dades (validació interna)"
   ]
  },
  {
   "cell_type": "code",
   "execution_count": 82,
   "id": "716b6549",
   "metadata": {},
   "outputs": [
    {
     "name": "stdout",
     "output_type": "stream",
     "text": [
      "LM:  1.0\n",
      "Decision tree:  0.9869825622343482\n",
      "LASSO:  0.9999914901398274\n"
     ]
    }
   ],
   "source": [
    "#Es mesura el rendiment per aproximació train/test\n",
    "import sklearn.metrics as skm\n",
    "\n",
    "print('LM: ', skm.r2_score(y_test, lm_yPredict))\n",
    "print('Decision tree: ', skm.r2_score(y_test, dt_yPredict))\n",
    "print('LASSO: ', skm.r2_score(y_test, lasso_yPredict))\n"
   ]
  },
  {
   "cell_type": "code",
   "execution_count": 85,
   "id": "41ef81b7",
   "metadata": {},
   "outputs": [
    {
     "name": "stdout",
     "output_type": "stream",
     "text": [
      "LM:  1.0\n",
      "Decision tree:  0.9869911695478647\n",
      "LASSO:  0.9999914907561249\n"
     ]
    }
   ],
   "source": [
    "#Explained variance score\n",
    "\n",
    "print('LM: ', skm.explained_variance_score(y_test, lm_yPredict))\n",
    "print('Decision tree: ', skm.explained_variance_score(y_test, dt_yPredict))\n",
    "print('LASSO: ', skm.explained_variance_score(y_test, lasso_yPredict))"
   ]
  },
  {
   "cell_type": "markdown",
   "id": "a28cb37f",
   "metadata": {},
   "source": [
    "En tots els casos i com les valoracions anteriors tots tres models donen coeficients molt grans donant a entendre que existeix overfitting."
   ]
  },
  {
   "cell_type": "code",
   "execution_count": null,
   "id": "943a2330",
   "metadata": {},
   "outputs": [],
   "source": []
  }
 ],
 "metadata": {
  "kernelspec": {
   "display_name": "Python 3 (ipykernel)",
   "language": "python",
   "name": "python3"
  },
  "language_info": {
   "codemirror_mode": {
    "name": "ipython",
    "version": 3
   },
   "file_extension": ".py",
   "mimetype": "text/x-python",
   "name": "python",
   "nbconvert_exporter": "python",
   "pygments_lexer": "ipython3",
   "version": "3.9.7"
  }
 },
 "nbformat": 4,
 "nbformat_minor": 5
}
